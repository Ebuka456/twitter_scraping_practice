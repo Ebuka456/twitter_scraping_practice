{
 "cells": [
  {
   "cell_type": "markdown",
   "id": "da7823fb",
   "metadata": {},
   "source": [
    "## Packages to Import"
   ]
  },
  {
   "cell_type": "code",
   "execution_count": 6,
   "id": "f519fe93",
   "metadata": {},
   "outputs": [],
   "source": [
    "import snscrape.modules.twitter as sntwitter\n",
    "import datetime as dt\n",
    "import pandas as pd\n",
    "import warnings\n",
    "from datetime import datetime\n",
    "warnings.filterwarnings('ignore')"
   ]
  },
  {
   "cell_type": "markdown",
   "id": "2f9759cd",
   "metadata": {},
   "source": [
    "## A function to scrape tweets in python"
   ]
  },
  {
   "cell_type": "markdown",
   "id": "efd01a07",
   "metadata": {},
   "source": [
    "![img](snscrape_tweet_attribute.png)"
   ]
  },
  {
   "cell_type": "code",
   "execution_count": 2,
   "id": "eb40627d",
   "metadata": {},
   "outputs": [],
   "source": [
    "def scrape_hashtag_tweets(hashtag, start_date, end_date):\n",
    "    \"\"\"\n",
    "    Scrapes all tweets containing a certain hashtag within a specified time frame,\n",
    "    ignoring case sensitivity.\n",
    "    Args:\n",
    "        hashtag (str): the hashtag to scrape, without the \"#\" symbol\n",
    "        start_date (str): the start date in \"YYYY-MM-DD\" format\n",
    "        end_date (str): the end date in \"YYYY-MM-DD\" format\n",
    "    Returns:\n",
    "        List of dictionaries, with each dictionary representing a single tweet and containing\n",
    "        the following keys:\n",
    "            - id: the tweet's unique identifier\n",
    "            - content: the tweet's text content\n",
    "            - date: the datetime object representing the tweet's date and time\n",
    "            - url: the URL of the tweet\n",
    "            - username: the username of the tweet's author\n",
    "    \"\"\"\n",
    "    # Convert the start and end dates to datetime objects\n",
    "    start_dt = dt.datetime.strptime(start_date, \"%Y-%m-%d\")\n",
    "    end_dt = dt.datetime.strptime(end_date, \"%Y-%m-%d\")\n",
    "\n",
    "    # Create a list to store the scraped tweets\n",
    "    tweets = []\n",
    "\n",
    "    # Iterate over all tweets containing the specified hashtag\n",
    "    for tweet in sntwitter.TwitterSearchScraper(f\"#{hashtag} since:{start_date} until:{end_date}\").get_items():\n",
    "        # Ignore tweets that don't match the hashtag (ignoring case sensitivity)\n",
    "        if hashtag.lower() not in tweet.content.lower():\n",
    "            continue\n",
    "\n",
    "        # Convert the tweet's date string to a datetime object\n",
    "        #tweet_date = dt.datetime.strftime(tweet.date[:19], \"%Y-%m-%dT%H:%M:%S\")\n",
    "\n",
    "        # Ignore tweets outside the specified time frame\n",
    "        #if tweet_date < start_dt or tweet_date > end_dt:\n",
    "            #continue\n",
    "\n",
    "        # Add the relevant information about the tweet to the list\n",
    "        tweets.append({\n",
    "            \"id\": tweet.id,\n",
    "            \"content\": tweet.content,\n",
    "            \"date\": tweet.date,\n",
    "            \"username\": tweet.user.username,\n",
    "            \"userdisplayname\": tweet.user.displayname,\n",
    "            \"userlocation\": tweet.user.location,\n",
    "            \"retweetCount\": tweet.retweetCount,\n",
    "            \"likeCount\": tweet.likeCount,\n",
    "            \"language\": tweet.lang,\n",
    "            \"source\": tweet.source,\n",
    "            \"retweetedTweet\": tweet.retweetedTweet,\n",
    "            \"quotedTweet\": tweet.quotedTweet,\n",
    "            \"mentionedUsers\": tweet.mentionedUsers\n",
    "        })\n",
    "\n",
    "    return tweets\n"
   ]
  },
  {
   "cell_type": "markdown",
   "id": "352a1310",
   "metadata": {},
   "source": [
    "### Using the Function to get tweets"
   ]
  },
  {
   "cell_type": "code",
   "execution_count": 7,
   "id": "4fc5957e",
   "metadata": {},
   "outputs": [
    {
     "name": "stdout",
     "output_type": "stream",
     "text": [
      "Enter the hashtag: #grateful\n",
      "Enter the start date in this format yyyy-mm-dd: 2023-03-01\n",
      "Enter the start date in this format yyyy-mm-dd: 2023-03-05\n",
      "                    id                                            content  \\\n",
      "0  1632166647518601218  A sunny day with lots of yellow blooms!  Thank...   \n",
      "1  1632166578664947713  #SelfCareSaturday - cheering for everyone! 🙌🏼🫱...   \n",
      "2  1632166428697825280                #LoveOnTourSydneyN2 #tpwk #grateful   \n",
      "3  1632164554556973057  In calmness lies true pleasure.\\n\\n#quoteofthe...   \n",
      "4  1632164213329129472  My favourite photo from last night. Pure joy. ...   \n",
      "\n",
      "                       date         username          userdisplayname  \\\n",
      "0 2023-03-04 23:50:27+00:00    JaneForZville       JaneForZvilleMayor   \n",
      "1 2023-03-04 23:50:11+00:00  TiffanyNeal_PhD             Tiffany Neal   \n",
      "2 2023-03-04 23:49:35+00:00  KatieJa91528547                      Kat   \n",
      "3 2023-03-04 23:42:08+00:00   tashisherpa007                       TS   \n",
      "4 2023-03-04 23:40:47+00:00   princessmaryjo  bumpyroadtobubba 👩‍👧🐶🐶🌱   \n",
      "\n",
      "          userlocation  retweetCount  likeCount language  \\\n",
      "0  Zionsville, Indiana             1          3       en   \n",
      "1         Indiana, USA             0          0       en   \n",
      "2                                  0          0      qht   \n",
      "3                                  0          0       en   \n",
      "4    sydney, australia             0          0       en   \n",
      "\n",
      "                                              source retweetedTweet  \\\n",
      "0  <a href=\"http://twitter.com/download/iphone\" r...           None   \n",
      "1  <a href=\"http://twitter.com/download/iphone\" r...           None   \n",
      "2  <a href=\"http://twitter.com/download/iphone\" r...           None   \n",
      "3  <a href=\"http://twitter.com/download/iphone\" r...           None   \n",
      "4  <a href=\"http://instagram.com\" rel=\"nofollow\">...           None   \n",
      "\n",
      "  quotedTweet                     mentionedUsers  \n",
      "0        None                               None  \n",
      "1        None                               None  \n",
      "2        None                               None  \n",
      "3        None                               None  \n",
      "4        None  [https://twitter.com/harrystyles]  \n"
     ]
    }
   ],
   "source": [
    "# input the hashtag you want to scrape\n",
    "hashtag = input(\"Enter the hashtag: \") \n",
    "\n",
    "#input the start date from when you want to scraping\n",
    "start_date = input(\"Enter the start date in this format yyyy-mm-dd: \")\n",
    "\n",
    "#input the end date from when you want to end the scraping\n",
    "end_date = input(\"Enter the start date in this format yyyy-mm-dd: \")\n",
    "\n",
    "# Scrape tweets and convert to DataFrame\n",
    "scraped_tweets = scrape_hashtag_tweets(hashtag, start_date, end_date)\n",
    "tweets = pd.DataFrame(scraped_tweets)\n",
    "\n",
    "# Print the DataFrame\n",
    "print(tweets.head())"
   ]
  },
  {
   "cell_type": "code",
   "execution_count": 5,
   "id": "e63e0493",
   "metadata": {},
   "outputs": [
    {
     "data": {
      "text/plain": [
       "77"
      ]
     },
     "execution_count": 5,
     "metadata": {},
     "output_type": "execute_result"
    }
   ],
   "source": [
    "len(tweets)"
   ]
  },
  {
   "cell_type": "code",
   "execution_count": null,
   "id": "8cead9cd",
   "metadata": {},
   "outputs": [],
   "source": [
    "tweets.sort_values(by='date',ascending=False) "
   ]
  },
  {
   "cell_type": "markdown",
   "id": "951c3fce",
   "metadata": {},
   "source": [
    "## Scraping a certain number tweets based on a hashtag within a timeframe"
   ]
  },
  {
   "cell_type": "code",
   "execution_count": null,
   "id": "8c08619d",
   "metadata": {},
   "outputs": [],
   "source": [
    "# Creating list to append tweet data to\n",
    "tweets_list2 = []\n",
    "\n",
    "hashtag = '#basic' # the hashtag you want to scrape\n",
    "\n",
    "# Using TwitterSearchScraper to scrape data and append tweets to list\n",
    "#tweets were scraped from 2020-06-01 till 2020-07-31\n",
    "\n",
    "for i,tweet in enumerate(sntwitter.TwitterSearchScraper('{hashtag} since:2020-06-01 until:2020-07-31').get_items()):\n",
    "    if i>500: #here 500 is the number of tweets you want to scrape\n",
    "        break\n",
    "    tweets_list2.append([tweet.date, tweet.id, tweet.content, tweet.user.username])\n",
    "    \n",
    "# Creating a dataframe from the tweets list above\n",
    "tweets_df2 = pd.DataFrame(tweets_list2, columns=['Datetime', 'Tweet Id', 'Text', 'Username'])\n",
    "\n",
    "tweets_df2.head()"
   ]
  },
  {
   "cell_type": "markdown",
   "id": "0c0979e8",
   "metadata": {},
   "source": [
    "## For more details\n",
    "\n",
    "for more details on twitter scraping, check the [resources](https://betterprogramming.pub/how-to-scrape-tweets-with-snscrape-90124ed006af)"
   ]
  }
 ],
 "metadata": {
  "kernelspec": {
   "display_name": "Python 3 (ipykernel)",
   "language": "python",
   "name": "python3"
  },
  "language_info": {
   "codemirror_mode": {
    "name": "ipython",
    "version": 3
   },
   "file_extension": ".py",
   "mimetype": "text/x-python",
   "name": "python",
   "nbconvert_exporter": "python",
   "pygments_lexer": "ipython3",
   "version": "3.11.2"
  }
 },
 "nbformat": 4,
 "nbformat_minor": 5
}
